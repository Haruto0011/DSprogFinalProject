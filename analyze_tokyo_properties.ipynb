{
 "cells": [
  {
   "cell_type": "code",
   "execution_count": 2,
   "metadata": {},
   "outputs": [
    {
     "name": "stdout",
     "output_type": "stream",
     "text": [
      "[INFO] データフレームの基本情報\n",
      "<class 'pandas.core.frame.DataFrame'>\n",
      "RangeIndex: 9848 entries, 0 to 9847\n",
      "Data columns (total 5 columns):\n",
      " #   Column  Non-Null Count  Dtype \n",
      "---  ------  --------------  ----- \n",
      " 0   物件名     9848 non-null   object\n",
      " 1   販売価格    9848 non-null   object\n",
      " 2   所在地     9848 non-null   object\n",
      " 3   専有面積    9848 non-null   object\n",
      " 4   間取り     9848 non-null   object\n",
      "dtypes: object(5)\n",
      "memory usage: 384.8+ KB\n",
      "None\n",
      "            物件名    販売価格               所在地                 専有面積       間取り\n",
      "0       アペニンハイム  3380万円   東京都中央区勝どき３-4-18  35.91m2（10.86坪）（登記）      1LDK\n",
      "1     浜町グランドハイツ  3990万円       東京都中央区日本橋中洲             36m2（壁芯）  1K+S（納戸）\n",
      "2     浜町グランドハイツ  4180万円       東京都中央区日本橋中洲     36m2（10.88坪）（壁芯）  1K+S（納戸）\n",
      "3  ワコー東日本橋マンション  4250万円      東京都中央区日本橋浜町１  42.74m2（12.92坪）（壁芯）      1LDK\n",
      "4    箱崎ダイヤマンション  4480万円  東京都中央区日本橋箱崎町13-8  43.82m2（13.25坪）（壁芯）      1LDK\n"
     ]
    }
   ],
   "source": [
    "import pandas as pd\n",
    "import matplotlib.pyplot as plt\n",
    "\n",
    "# 中央区、港区、千代田区のCSVファイルを読み込む\n",
    "chuo_data = pd.read_csv(\"/Users/nishizawarharuto/DSprogFinalProject/chuo_properties_no_built_year.csv\")\n",
    "minato_data = pd.read_csv(\"/Users/nishizawarharuto/DSprogFinalProject/minato_properties_no_built_year.csv\")\n",
    "chiyoda_data = pd.read_csv(\"/Users/nishizawarharuto/DSprogFinalProject/chiyoda_properties_no_built_year.csv\")\n",
    "\n",
    "# 全てのデータを統合\n",
    "all_data = pd.concat([chuo_data, minato_data, chiyoda_data], ignore_index=True)\n",
    "\n",
    "# データの確認\n",
    "print(\"[INFO] データフレームの基本情報\")\n",
    "print(all_data.info())\n",
    "print(all_data.head())"
   ]
  },
  {
   "cell_type": "code",
   "execution_count": 5,
   "metadata": {},
   "outputs": [
    {
     "name": "stdout",
     "output_type": "stream",
     "text": [
      "            物件名    販売価格               所在地   専有面積       間取り\n",
      "0       アペニンハイム  3380.0   東京都中央区勝どき３-4-18  35.91      1LDK\n",
      "1     浜町グランドハイツ  3990.0       東京都中央区日本橋中洲    NaN  1K+S（納戸）\n",
      "2     浜町グランドハイツ  4180.0       東京都中央区日本橋中洲  10.88  1K+S（納戸）\n",
      "3  ワコー東日本橋マンション  4250.0      東京都中央区日本橋浜町１  42.74      1LDK\n",
      "4    箱崎ダイヤマンション  4480.0  東京都中央区日本橋箱崎町13-8  43.82      1LDK\n"
     ]
    }
   ],
   "source": [
    "# 価格を数値に変換（万円単位に統一）\n",
    "def convert_price(price):\n",
    "    try:\n",
    "        # \"億\"と\"万円\"を同時に含む場合\n",
    "        if \"億\" in price and \"万円\" in price:\n",
    "            parts = price.split(\"億\")\n",
    "            oku = float(parts[0]) * 10000  # 億を万円に変換\n",
    "            man = float(parts[1].replace(\"万円\", \"\").strip())  # 万円を数値化\n",
    "            return oku + man\n",
    "        # \"億円\"のみの場合\n",
    "        elif \"億\" in price:\n",
    "            return float(price.replace(\"億円\", \"\").strip()) * 10000\n",
    "        # \"万円\"のみの場合\n",
    "        elif \"万円\" in price:\n",
    "            return float(price.replace(\"万円\", \"\").strip())\n",
    "        else:\n",
    "            return None  # 不正なデータの場合\n",
    "    except Exception as e:\n",
    "        print(f\"[WARNING] 価格の変換に失敗しました: {price}, エラー: {e}\")\n",
    "        return None\n",
    "\n",
    "# 販売価格列を変換\n",
    "all_data['販売価格'] = all_data['販売価格'].apply(convert_price)\n",
    "\n",
    "# 面積を数値に変換（m²部分を削除）\n",
    "all_data['専有面積'] = all_data['専有面積'].str.extract(r'(\\d+\\.\\d+)').astype(float)\n",
    "\n",
    "# データの確認\n",
    "print(all_data.head())"
   ]
  }
 ],
 "metadata": {
  "kernelspec": {
   "display_name": ".venv",
   "language": "python",
   "name": "python3"
  },
  "language_info": {
   "codemirror_mode": {
    "name": "ipython",
    "version": 3
   },
   "file_extension": ".py",
   "mimetype": "text/x-python",
   "name": "python",
   "nbconvert_exporter": "python",
   "pygments_lexer": "ipython3",
   "version": "3.10.1"
  }
 },
 "nbformat": 4,
 "nbformat_minor": 2
}
